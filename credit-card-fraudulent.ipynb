{
 "cells": [
  {
   "cell_type": "code",
   "execution_count": 1,
   "id": "d04de354",
   "metadata": {
    "_cell_guid": "b1076dfc-b9ad-4769-8c92-a6c4dae69d19",
    "_uuid": "8f2839f25d086af736a60e9eeb907d3b93b6e0e5",
    "execution": {
     "iopub.execute_input": "2022-09-01T04:03:36.623942Z",
     "iopub.status.busy": "2022-09-01T04:03:36.623092Z",
     "iopub.status.idle": "2022-09-01T04:03:36.646622Z",
     "shell.execute_reply": "2022-09-01T04:03:36.645472Z"
    },
    "papermill": {
     "duration": 0.039845,
     "end_time": "2022-09-01T04:03:36.649773",
     "exception": false,
     "start_time": "2022-09-01T04:03:36.609928",
     "status": "completed"
    },
    "tags": []
   },
   "outputs": [
    {
     "name": "stdout",
     "output_type": "stream",
     "text": [
      "/kaggle/input/creditcardfraud/creditcard.csv\n"
     ]
    }
   ],
   "source": [
    "# This Python 3 environment comes with many helpful analytics libraries installed\n",
    "# It is defined by the kaggle/python Docker image: https://github.com/kaggle/docker-python\n",
    "# For example, here's several helpful packages to load\n",
    "\n",
    "import numpy as np # linear algebra\n",
    "import pandas as pd # data processing, CSV file I/O (e.g. pd.read_csv)\n",
    "\n",
    "# Input data files are available in the read-only \"../input/\" directory\n",
    "# For example, running this (by clicking run or pressing Shift+Enter) will list all files under the input directory\n",
    "\n",
    "import os\n",
    "for dirname, _, filenames in os.walk('/kaggle/input'):\n",
    "    for filename in filenames:\n",
    "        print(os.path.join(dirname, filename))\n",
    "\n",
    "# You can write up to 20GB to the current directory (/kaggle/working/) that gets preserved as output when you create a version using \"Save & Run All\" \n",
    "# You can also write temporary files to /kaggle/temp/, but they won't be saved outside of the current session"
   ]
  },
  {
   "cell_type": "markdown",
   "id": "7016a173",
   "metadata": {
    "papermill": {
     "duration": 0.009148,
     "end_time": "2022-09-01T04:03:36.668889",
     "exception": false,
     "start_time": "2022-09-01T04:03:36.659741",
     "status": "completed"
    },
    "tags": []
   },
   "source": [
    "Importing the Dependencies"
   ]
  },
  {
   "cell_type": "code",
   "execution_count": 2,
   "id": "bdd12790",
   "metadata": {
    "execution": {
     "iopub.execute_input": "2022-09-01T04:03:36.690088Z",
     "iopub.status.busy": "2022-09-01T04:03:36.689519Z",
     "iopub.status.idle": "2022-09-01T04:03:38.066724Z",
     "shell.execute_reply": "2022-09-01T04:03:38.065214Z"
    },
    "papermill": {
     "duration": 1.3916,
     "end_time": "2022-09-01T04:03:38.070005",
     "exception": false,
     "start_time": "2022-09-01T04:03:36.678405",
     "status": "completed"
    },
    "tags": []
   },
   "outputs": [],
   "source": [
    "import numpy as np\n",
    "import pandas as pd\n",
    "from sklearn.model_selection import train_test_split\n",
    "from sklearn.linear_model import LogisticRegression\n",
    "from sklearn.metrics import accuracy_score \n"
   ]
  },
  {
   "cell_type": "code",
   "execution_count": 3,
   "id": "51ecfff2",
   "metadata": {
    "execution": {
     "iopub.execute_input": "2022-09-01T04:03:38.093593Z",
     "iopub.status.busy": "2022-09-01T04:03:38.092555Z",
     "iopub.status.idle": "2022-09-01T04:03:43.713573Z",
     "shell.execute_reply": "2022-09-01T04:03:43.712004Z"
    },
    "papermill": {
     "duration": 5.636576,
     "end_time": "2022-09-01T04:03:43.716968",
     "exception": false,
     "start_time": "2022-09-01T04:03:38.080392",
     "status": "completed"
    },
    "tags": []
   },
   "outputs": [],
   "source": [
    "# loadin the dataset \n",
    "credit_card_data = pd.read_csv('../input/creditcardfraud/creditcard.csv')\n",
    "\n"
   ]
  },
  {
   "cell_type": "code",
   "execution_count": 4,
   "id": "8a5c1079",
   "metadata": {
    "execution": {
     "iopub.execute_input": "2022-09-01T04:03:43.738587Z",
     "iopub.status.busy": "2022-09-01T04:03:43.738092Z",
     "iopub.status.idle": "2022-09-01T04:03:43.784871Z",
     "shell.execute_reply": "2022-09-01T04:03:43.783923Z"
    },
    "papermill": {
     "duration": 0.060432,
     "end_time": "2022-09-01T04:03:43.787405",
     "exception": false,
     "start_time": "2022-09-01T04:03:43.726973",
     "status": "completed"
    },
    "tags": []
   },
   "outputs": [
    {
     "data": {
      "text/html": [
       "<div>\n",
       "<style scoped>\n",
       "    .dataframe tbody tr th:only-of-type {\n",
       "        vertical-align: middle;\n",
       "    }\n",
       "\n",
       "    .dataframe tbody tr th {\n",
       "        vertical-align: top;\n",
       "    }\n",
       "\n",
       "    .dataframe thead th {\n",
       "        text-align: right;\n",
       "    }\n",
       "</style>\n",
       "<table border=\"1\" class=\"dataframe\">\n",
       "  <thead>\n",
       "    <tr style=\"text-align: right;\">\n",
       "      <th></th>\n",
       "      <th>Time</th>\n",
       "      <th>V1</th>\n",
       "      <th>V2</th>\n",
       "      <th>V3</th>\n",
       "      <th>V4</th>\n",
       "      <th>V5</th>\n",
       "      <th>V6</th>\n",
       "      <th>V7</th>\n",
       "      <th>V8</th>\n",
       "      <th>V9</th>\n",
       "      <th>...</th>\n",
       "      <th>V21</th>\n",
       "      <th>V22</th>\n",
       "      <th>V23</th>\n",
       "      <th>V24</th>\n",
       "      <th>V25</th>\n",
       "      <th>V26</th>\n",
       "      <th>V27</th>\n",
       "      <th>V28</th>\n",
       "      <th>Amount</th>\n",
       "      <th>Class</th>\n",
       "    </tr>\n",
       "  </thead>\n",
       "  <tbody>\n",
       "    <tr>\n",
       "      <th>0</th>\n",
       "      <td>0.0</td>\n",
       "      <td>-1.359807</td>\n",
       "      <td>-0.072781</td>\n",
       "      <td>2.536347</td>\n",
       "      <td>1.378155</td>\n",
       "      <td>-0.338321</td>\n",
       "      <td>0.462388</td>\n",
       "      <td>0.239599</td>\n",
       "      <td>0.098698</td>\n",
       "      <td>0.363787</td>\n",
       "      <td>...</td>\n",
       "      <td>-0.018307</td>\n",
       "      <td>0.277838</td>\n",
       "      <td>-0.110474</td>\n",
       "      <td>0.066928</td>\n",
       "      <td>0.128539</td>\n",
       "      <td>-0.189115</td>\n",
       "      <td>0.133558</td>\n",
       "      <td>-0.021053</td>\n",
       "      <td>149.62</td>\n",
       "      <td>0</td>\n",
       "    </tr>\n",
       "    <tr>\n",
       "      <th>1</th>\n",
       "      <td>0.0</td>\n",
       "      <td>1.191857</td>\n",
       "      <td>0.266151</td>\n",
       "      <td>0.166480</td>\n",
       "      <td>0.448154</td>\n",
       "      <td>0.060018</td>\n",
       "      <td>-0.082361</td>\n",
       "      <td>-0.078803</td>\n",
       "      <td>0.085102</td>\n",
       "      <td>-0.255425</td>\n",
       "      <td>...</td>\n",
       "      <td>-0.225775</td>\n",
       "      <td>-0.638672</td>\n",
       "      <td>0.101288</td>\n",
       "      <td>-0.339846</td>\n",
       "      <td>0.167170</td>\n",
       "      <td>0.125895</td>\n",
       "      <td>-0.008983</td>\n",
       "      <td>0.014724</td>\n",
       "      <td>2.69</td>\n",
       "      <td>0</td>\n",
       "    </tr>\n",
       "    <tr>\n",
       "      <th>2</th>\n",
       "      <td>1.0</td>\n",
       "      <td>-1.358354</td>\n",
       "      <td>-1.340163</td>\n",
       "      <td>1.773209</td>\n",
       "      <td>0.379780</td>\n",
       "      <td>-0.503198</td>\n",
       "      <td>1.800499</td>\n",
       "      <td>0.791461</td>\n",
       "      <td>0.247676</td>\n",
       "      <td>-1.514654</td>\n",
       "      <td>...</td>\n",
       "      <td>0.247998</td>\n",
       "      <td>0.771679</td>\n",
       "      <td>0.909412</td>\n",
       "      <td>-0.689281</td>\n",
       "      <td>-0.327642</td>\n",
       "      <td>-0.139097</td>\n",
       "      <td>-0.055353</td>\n",
       "      <td>-0.059752</td>\n",
       "      <td>378.66</td>\n",
       "      <td>0</td>\n",
       "    </tr>\n",
       "    <tr>\n",
       "      <th>3</th>\n",
       "      <td>1.0</td>\n",
       "      <td>-0.966272</td>\n",
       "      <td>-0.185226</td>\n",
       "      <td>1.792993</td>\n",
       "      <td>-0.863291</td>\n",
       "      <td>-0.010309</td>\n",
       "      <td>1.247203</td>\n",
       "      <td>0.237609</td>\n",
       "      <td>0.377436</td>\n",
       "      <td>-1.387024</td>\n",
       "      <td>...</td>\n",
       "      <td>-0.108300</td>\n",
       "      <td>0.005274</td>\n",
       "      <td>-0.190321</td>\n",
       "      <td>-1.175575</td>\n",
       "      <td>0.647376</td>\n",
       "      <td>-0.221929</td>\n",
       "      <td>0.062723</td>\n",
       "      <td>0.061458</td>\n",
       "      <td>123.50</td>\n",
       "      <td>0</td>\n",
       "    </tr>\n",
       "    <tr>\n",
       "      <th>4</th>\n",
       "      <td>2.0</td>\n",
       "      <td>-1.158233</td>\n",
       "      <td>0.877737</td>\n",
       "      <td>1.548718</td>\n",
       "      <td>0.403034</td>\n",
       "      <td>-0.407193</td>\n",
       "      <td>0.095921</td>\n",
       "      <td>0.592941</td>\n",
       "      <td>-0.270533</td>\n",
       "      <td>0.817739</td>\n",
       "      <td>...</td>\n",
       "      <td>-0.009431</td>\n",
       "      <td>0.798278</td>\n",
       "      <td>-0.137458</td>\n",
       "      <td>0.141267</td>\n",
       "      <td>-0.206010</td>\n",
       "      <td>0.502292</td>\n",
       "      <td>0.219422</td>\n",
       "      <td>0.215153</td>\n",
       "      <td>69.99</td>\n",
       "      <td>0</td>\n",
       "    </tr>\n",
       "  </tbody>\n",
       "</table>\n",
       "<p>5 rows × 31 columns</p>\n",
       "</div>"
      ],
      "text/plain": [
       "   Time        V1        V2        V3        V4        V5        V6        V7  \\\n",
       "0   0.0 -1.359807 -0.072781  2.536347  1.378155 -0.338321  0.462388  0.239599   \n",
       "1   0.0  1.191857  0.266151  0.166480  0.448154  0.060018 -0.082361 -0.078803   \n",
       "2   1.0 -1.358354 -1.340163  1.773209  0.379780 -0.503198  1.800499  0.791461   \n",
       "3   1.0 -0.966272 -0.185226  1.792993 -0.863291 -0.010309  1.247203  0.237609   \n",
       "4   2.0 -1.158233  0.877737  1.548718  0.403034 -0.407193  0.095921  0.592941   \n",
       "\n",
       "         V8        V9  ...       V21       V22       V23       V24       V25  \\\n",
       "0  0.098698  0.363787  ... -0.018307  0.277838 -0.110474  0.066928  0.128539   \n",
       "1  0.085102 -0.255425  ... -0.225775 -0.638672  0.101288 -0.339846  0.167170   \n",
       "2  0.247676 -1.514654  ...  0.247998  0.771679  0.909412 -0.689281 -0.327642   \n",
       "3  0.377436 -1.387024  ... -0.108300  0.005274 -0.190321 -1.175575  0.647376   \n",
       "4 -0.270533  0.817739  ... -0.009431  0.798278 -0.137458  0.141267 -0.206010   \n",
       "\n",
       "        V26       V27       V28  Amount  Class  \n",
       "0 -0.189115  0.133558 -0.021053  149.62      0  \n",
       "1  0.125895 -0.008983  0.014724    2.69      0  \n",
       "2 -0.139097 -0.055353 -0.059752  378.66      0  \n",
       "3 -0.221929  0.062723  0.061458  123.50      0  \n",
       "4  0.502292  0.219422  0.215153   69.99      0  \n",
       "\n",
       "[5 rows x 31 columns]"
      ]
     },
     "execution_count": 4,
     "metadata": {},
     "output_type": "execute_result"
    }
   ],
   "source": [
    "credit_card_data.head()"
   ]
  },
  {
   "cell_type": "code",
   "execution_count": 5,
   "id": "bb30ee60",
   "metadata": {
    "execution": {
     "iopub.execute_input": "2022-09-01T04:03:43.809862Z",
     "iopub.status.busy": "2022-09-01T04:03:43.808891Z",
     "iopub.status.idle": "2022-09-01T04:03:43.838138Z",
     "shell.execute_reply": "2022-09-01T04:03:43.836757Z"
    },
    "papermill": {
     "duration": 0.043514,
     "end_time": "2022-09-01T04:03:43.840829",
     "exception": false,
     "start_time": "2022-09-01T04:03:43.797315",
     "status": "completed"
    },
    "tags": []
   },
   "outputs": [
    {
     "data": {
      "text/html": [
       "<div>\n",
       "<style scoped>\n",
       "    .dataframe tbody tr th:only-of-type {\n",
       "        vertical-align: middle;\n",
       "    }\n",
       "\n",
       "    .dataframe tbody tr th {\n",
       "        vertical-align: top;\n",
       "    }\n",
       "\n",
       "    .dataframe thead th {\n",
       "        text-align: right;\n",
       "    }\n",
       "</style>\n",
       "<table border=\"1\" class=\"dataframe\">\n",
       "  <thead>\n",
       "    <tr style=\"text-align: right;\">\n",
       "      <th></th>\n",
       "      <th>Time</th>\n",
       "      <th>V1</th>\n",
       "      <th>V2</th>\n",
       "      <th>V3</th>\n",
       "      <th>V4</th>\n",
       "      <th>V5</th>\n",
       "      <th>V6</th>\n",
       "      <th>V7</th>\n",
       "      <th>V8</th>\n",
       "      <th>V9</th>\n",
       "      <th>...</th>\n",
       "      <th>V21</th>\n",
       "      <th>V22</th>\n",
       "      <th>V23</th>\n",
       "      <th>V24</th>\n",
       "      <th>V25</th>\n",
       "      <th>V26</th>\n",
       "      <th>V27</th>\n",
       "      <th>V28</th>\n",
       "      <th>Amount</th>\n",
       "      <th>Class</th>\n",
       "    </tr>\n",
       "  </thead>\n",
       "  <tbody>\n",
       "    <tr>\n",
       "      <th>284802</th>\n",
       "      <td>172786.0</td>\n",
       "      <td>-11.881118</td>\n",
       "      <td>10.071785</td>\n",
       "      <td>-9.834783</td>\n",
       "      <td>-2.066656</td>\n",
       "      <td>-5.364473</td>\n",
       "      <td>-2.606837</td>\n",
       "      <td>-4.918215</td>\n",
       "      <td>7.305334</td>\n",
       "      <td>1.914428</td>\n",
       "      <td>...</td>\n",
       "      <td>0.213454</td>\n",
       "      <td>0.111864</td>\n",
       "      <td>1.014480</td>\n",
       "      <td>-0.509348</td>\n",
       "      <td>1.436807</td>\n",
       "      <td>0.250034</td>\n",
       "      <td>0.943651</td>\n",
       "      <td>0.823731</td>\n",
       "      <td>0.77</td>\n",
       "      <td>0</td>\n",
       "    </tr>\n",
       "    <tr>\n",
       "      <th>284803</th>\n",
       "      <td>172787.0</td>\n",
       "      <td>-0.732789</td>\n",
       "      <td>-0.055080</td>\n",
       "      <td>2.035030</td>\n",
       "      <td>-0.738589</td>\n",
       "      <td>0.868229</td>\n",
       "      <td>1.058415</td>\n",
       "      <td>0.024330</td>\n",
       "      <td>0.294869</td>\n",
       "      <td>0.584800</td>\n",
       "      <td>...</td>\n",
       "      <td>0.214205</td>\n",
       "      <td>0.924384</td>\n",
       "      <td>0.012463</td>\n",
       "      <td>-1.016226</td>\n",
       "      <td>-0.606624</td>\n",
       "      <td>-0.395255</td>\n",
       "      <td>0.068472</td>\n",
       "      <td>-0.053527</td>\n",
       "      <td>24.79</td>\n",
       "      <td>0</td>\n",
       "    </tr>\n",
       "    <tr>\n",
       "      <th>284804</th>\n",
       "      <td>172788.0</td>\n",
       "      <td>1.919565</td>\n",
       "      <td>-0.301254</td>\n",
       "      <td>-3.249640</td>\n",
       "      <td>-0.557828</td>\n",
       "      <td>2.630515</td>\n",
       "      <td>3.031260</td>\n",
       "      <td>-0.296827</td>\n",
       "      <td>0.708417</td>\n",
       "      <td>0.432454</td>\n",
       "      <td>...</td>\n",
       "      <td>0.232045</td>\n",
       "      <td>0.578229</td>\n",
       "      <td>-0.037501</td>\n",
       "      <td>0.640134</td>\n",
       "      <td>0.265745</td>\n",
       "      <td>-0.087371</td>\n",
       "      <td>0.004455</td>\n",
       "      <td>-0.026561</td>\n",
       "      <td>67.88</td>\n",
       "      <td>0</td>\n",
       "    </tr>\n",
       "    <tr>\n",
       "      <th>284805</th>\n",
       "      <td>172788.0</td>\n",
       "      <td>-0.240440</td>\n",
       "      <td>0.530483</td>\n",
       "      <td>0.702510</td>\n",
       "      <td>0.689799</td>\n",
       "      <td>-0.377961</td>\n",
       "      <td>0.623708</td>\n",
       "      <td>-0.686180</td>\n",
       "      <td>0.679145</td>\n",
       "      <td>0.392087</td>\n",
       "      <td>...</td>\n",
       "      <td>0.265245</td>\n",
       "      <td>0.800049</td>\n",
       "      <td>-0.163298</td>\n",
       "      <td>0.123205</td>\n",
       "      <td>-0.569159</td>\n",
       "      <td>0.546668</td>\n",
       "      <td>0.108821</td>\n",
       "      <td>0.104533</td>\n",
       "      <td>10.00</td>\n",
       "      <td>0</td>\n",
       "    </tr>\n",
       "    <tr>\n",
       "      <th>284806</th>\n",
       "      <td>172792.0</td>\n",
       "      <td>-0.533413</td>\n",
       "      <td>-0.189733</td>\n",
       "      <td>0.703337</td>\n",
       "      <td>-0.506271</td>\n",
       "      <td>-0.012546</td>\n",
       "      <td>-0.649617</td>\n",
       "      <td>1.577006</td>\n",
       "      <td>-0.414650</td>\n",
       "      <td>0.486180</td>\n",
       "      <td>...</td>\n",
       "      <td>0.261057</td>\n",
       "      <td>0.643078</td>\n",
       "      <td>0.376777</td>\n",
       "      <td>0.008797</td>\n",
       "      <td>-0.473649</td>\n",
       "      <td>-0.818267</td>\n",
       "      <td>-0.002415</td>\n",
       "      <td>0.013649</td>\n",
       "      <td>217.00</td>\n",
       "      <td>0</td>\n",
       "    </tr>\n",
       "  </tbody>\n",
       "</table>\n",
       "<p>5 rows × 31 columns</p>\n",
       "</div>"
      ],
      "text/plain": [
       "            Time         V1         V2        V3        V4        V5  \\\n",
       "284802  172786.0 -11.881118  10.071785 -9.834783 -2.066656 -5.364473   \n",
       "284803  172787.0  -0.732789  -0.055080  2.035030 -0.738589  0.868229   \n",
       "284804  172788.0   1.919565  -0.301254 -3.249640 -0.557828  2.630515   \n",
       "284805  172788.0  -0.240440   0.530483  0.702510  0.689799 -0.377961   \n",
       "284806  172792.0  -0.533413  -0.189733  0.703337 -0.506271 -0.012546   \n",
       "\n",
       "              V6        V7        V8        V9  ...       V21       V22  \\\n",
       "284802 -2.606837 -4.918215  7.305334  1.914428  ...  0.213454  0.111864   \n",
       "284803  1.058415  0.024330  0.294869  0.584800  ...  0.214205  0.924384   \n",
       "284804  3.031260 -0.296827  0.708417  0.432454  ...  0.232045  0.578229   \n",
       "284805  0.623708 -0.686180  0.679145  0.392087  ...  0.265245  0.800049   \n",
       "284806 -0.649617  1.577006 -0.414650  0.486180  ...  0.261057  0.643078   \n",
       "\n",
       "             V23       V24       V25       V26       V27       V28  Amount  \\\n",
       "284802  1.014480 -0.509348  1.436807  0.250034  0.943651  0.823731    0.77   \n",
       "284803  0.012463 -1.016226 -0.606624 -0.395255  0.068472 -0.053527   24.79   \n",
       "284804 -0.037501  0.640134  0.265745 -0.087371  0.004455 -0.026561   67.88   \n",
       "284805 -0.163298  0.123205 -0.569159  0.546668  0.108821  0.104533   10.00   \n",
       "284806  0.376777  0.008797 -0.473649 -0.818267 -0.002415  0.013649  217.00   \n",
       "\n",
       "        Class  \n",
       "284802      0  \n",
       "284803      0  \n",
       "284804      0  \n",
       "284805      0  \n",
       "284806      0  \n",
       "\n",
       "[5 rows x 31 columns]"
      ]
     },
     "execution_count": 5,
     "metadata": {},
     "output_type": "execute_result"
    }
   ],
   "source": [
    "credit_card_data.tail()"
   ]
  },
  {
   "cell_type": "code",
   "execution_count": 6,
   "id": "5da68814",
   "metadata": {
    "execution": {
     "iopub.execute_input": "2022-09-01T04:03:43.864791Z",
     "iopub.status.busy": "2022-09-01T04:03:43.863856Z",
     "iopub.status.idle": "2022-09-01T04:03:43.916253Z",
     "shell.execute_reply": "2022-09-01T04:03:43.914875Z"
    },
    "papermill": {
     "duration": 0.068095,
     "end_time": "2022-09-01T04:03:43.919651",
     "exception": false,
     "start_time": "2022-09-01T04:03:43.851556",
     "status": "completed"
    },
    "tags": []
   },
   "outputs": [
    {
     "name": "stdout",
     "output_type": "stream",
     "text": [
      "<class 'pandas.core.frame.DataFrame'>\n",
      "RangeIndex: 284807 entries, 0 to 284806\n",
      "Data columns (total 31 columns):\n",
      " #   Column  Non-Null Count   Dtype  \n",
      "---  ------  --------------   -----  \n",
      " 0   Time    284807 non-null  float64\n",
      " 1   V1      284807 non-null  float64\n",
      " 2   V2      284807 non-null  float64\n",
      " 3   V3      284807 non-null  float64\n",
      " 4   V4      284807 non-null  float64\n",
      " 5   V5      284807 non-null  float64\n",
      " 6   V6      284807 non-null  float64\n",
      " 7   V7      284807 non-null  float64\n",
      " 8   V8      284807 non-null  float64\n",
      " 9   V9      284807 non-null  float64\n",
      " 10  V10     284807 non-null  float64\n",
      " 11  V11     284807 non-null  float64\n",
      " 12  V12     284807 non-null  float64\n",
      " 13  V13     284807 non-null  float64\n",
      " 14  V14     284807 non-null  float64\n",
      " 15  V15     284807 non-null  float64\n",
      " 16  V16     284807 non-null  float64\n",
      " 17  V17     284807 non-null  float64\n",
      " 18  V18     284807 non-null  float64\n",
      " 19  V19     284807 non-null  float64\n",
      " 20  V20     284807 non-null  float64\n",
      " 21  V21     284807 non-null  float64\n",
      " 22  V22     284807 non-null  float64\n",
      " 23  V23     284807 non-null  float64\n",
      " 24  V24     284807 non-null  float64\n",
      " 25  V25     284807 non-null  float64\n",
      " 26  V26     284807 non-null  float64\n",
      " 27  V27     284807 non-null  float64\n",
      " 28  V28     284807 non-null  float64\n",
      " 29  Amount  284807 non-null  float64\n",
      " 30  Class   284807 non-null  int64  \n",
      "dtypes: float64(30), int64(1)\n",
      "memory usage: 67.4 MB\n"
     ]
    }
   ],
   "source": [
    "credit_card_data.info()"
   ]
  },
  {
   "cell_type": "markdown",
   "id": "0ee93242",
   "metadata": {
    "papermill": {
     "duration": 0.01002,
     "end_time": "2022-09-01T04:03:43.941528",
     "exception": false,
     "start_time": "2022-09-01T04:03:43.931508",
     "status": "completed"
    },
    "tags": []
   },
   "source": [
    "Checking no. of missing values in our data"
   ]
  },
  {
   "cell_type": "code",
   "execution_count": 7,
   "id": "9ecce340",
   "metadata": {
    "execution": {
     "iopub.execute_input": "2022-09-01T04:03:43.965118Z",
     "iopub.status.busy": "2022-09-01T04:03:43.964265Z",
     "iopub.status.idle": "2022-09-01T04:03:43.996376Z",
     "shell.execute_reply": "2022-09-01T04:03:43.994902Z"
    },
    "papermill": {
     "duration": 0.047121,
     "end_time": "2022-09-01T04:03:43.999147",
     "exception": false,
     "start_time": "2022-09-01T04:03:43.952026",
     "status": "completed"
    },
    "tags": []
   },
   "outputs": [
    {
     "data": {
      "text/plain": [
       "Time      0\n",
       "V1        0\n",
       "V2        0\n",
       "V3        0\n",
       "V4        0\n",
       "V5        0\n",
       "V6        0\n",
       "V7        0\n",
       "V8        0\n",
       "V9        0\n",
       "V10       0\n",
       "V11       0\n",
       "V12       0\n",
       "V13       0\n",
       "V14       0\n",
       "V15       0\n",
       "V16       0\n",
       "V17       0\n",
       "V18       0\n",
       "V19       0\n",
       "V20       0\n",
       "V21       0\n",
       "V22       0\n",
       "V23       0\n",
       "V24       0\n",
       "V25       0\n",
       "V26       0\n",
       "V27       0\n",
       "V28       0\n",
       "Amount    0\n",
       "Class     0\n",
       "dtype: int64"
      ]
     },
     "execution_count": 7,
     "metadata": {},
     "output_type": "execute_result"
    }
   ],
   "source": [
    "credit_card_data.isnull().sum()"
   ]
  },
  {
   "cell_type": "code",
   "execution_count": 8,
   "id": "6a2d07b5",
   "metadata": {
    "execution": {
     "iopub.execute_input": "2022-09-01T04:03:44.023028Z",
     "iopub.status.busy": "2022-09-01T04:03:44.021844Z",
     "iopub.status.idle": "2022-09-01T04:03:44.035092Z",
     "shell.execute_reply": "2022-09-01T04:03:44.033839Z"
    },
    "papermill": {
     "duration": 0.027865,
     "end_time": "2022-09-01T04:03:44.037666",
     "exception": false,
     "start_time": "2022-09-01T04:03:44.009801",
     "status": "completed"
    },
    "tags": []
   },
   "outputs": [
    {
     "data": {
      "text/plain": [
       "0    284315\n",
       "1       492\n",
       "Name: Class, dtype: int64"
      ]
     },
     "execution_count": 8,
     "metadata": {},
     "output_type": "execute_result"
    }
   ],
   "source": [
    "#distribution of legit transaction and fraudlent transaction\n",
    "credit_card_data['Class'].value_counts()"
   ]
  },
  {
   "cell_type": "markdown",
   "id": "4548b769",
   "metadata": {
    "papermill": {
     "duration": 0.010046,
     "end_time": "2022-09-01T04:03:44.058324",
     "exception": false,
     "start_time": "2022-09-01T04:03:44.048278",
     "status": "completed"
    },
    "tags": []
   },
   "source": [
    "This dataset is highly unbalanced"
   ]
  },
  {
   "cell_type": "markdown",
   "id": "e94138a4",
   "metadata": {
    "papermill": {
     "duration": 0.010145,
     "end_time": "2022-09-01T04:03:44.079143",
     "exception": false,
     "start_time": "2022-09-01T04:03:44.068998",
     "status": "completed"
    },
    "tags": []
   },
   "source": [
    "0 --> Normal Transaction \n",
    "\n",
    "1 --> Fraudelent Transaction"
   ]
  },
  {
   "cell_type": "code",
   "execution_count": 9,
   "id": "7e71b4f6",
   "metadata": {
    "execution": {
     "iopub.execute_input": "2022-09-01T04:03:44.103786Z",
     "iopub.status.busy": "2022-09-01T04:03:44.102880Z",
     "iopub.status.idle": "2022-09-01T04:03:44.173481Z",
     "shell.execute_reply": "2022-09-01T04:03:44.172132Z"
    },
    "papermill": {
     "duration": 0.086193,
     "end_time": "2022-09-01T04:03:44.176740",
     "exception": false,
     "start_time": "2022-09-01T04:03:44.090547",
     "status": "completed"
    },
    "tags": []
   },
   "outputs": [],
   "source": [
    "# separating the data for analysis\n",
    "legit = credit_card_data[credit_card_data.Class == 0]\n",
    "fraud = credit_card_data[credit_card_data.Class == 1]"
   ]
  },
  {
   "cell_type": "code",
   "execution_count": 10,
   "id": "7837c458",
   "metadata": {
    "execution": {
     "iopub.execute_input": "2022-09-01T04:03:44.201522Z",
     "iopub.status.busy": "2022-09-01T04:03:44.200582Z",
     "iopub.status.idle": "2022-09-01T04:03:44.208487Z",
     "shell.execute_reply": "2022-09-01T04:03:44.206572Z"
    },
    "papermill": {
     "duration": 0.024207,
     "end_time": "2022-09-01T04:03:44.212064",
     "exception": false,
     "start_time": "2022-09-01T04:03:44.187857",
     "status": "completed"
    },
    "tags": []
   },
   "outputs": [
    {
     "name": "stdout",
     "output_type": "stream",
     "text": [
      "(284315, 31)\n",
      "(492, 31)\n"
     ]
    }
   ],
   "source": [
    "print(legit.shape)\n",
    "print(fraud.shape)"
   ]
  },
  {
   "cell_type": "code",
   "execution_count": 11,
   "id": "5099c604",
   "metadata": {
    "execution": {
     "iopub.execute_input": "2022-09-01T04:03:44.236567Z",
     "iopub.status.busy": "2022-09-01T04:03:44.235077Z",
     "iopub.status.idle": "2022-09-01T04:03:44.267010Z",
     "shell.execute_reply": "2022-09-01T04:03:44.265627Z"
    },
    "papermill": {
     "duration": 0.046944,
     "end_time": "2022-09-01T04:03:44.269816",
     "exception": false,
     "start_time": "2022-09-01T04:03:44.222872",
     "status": "completed"
    },
    "tags": []
   },
   "outputs": [
    {
     "data": {
      "text/plain": [
       "count    284315.000000\n",
       "mean         88.291022\n",
       "std         250.105092\n",
       "min           0.000000\n",
       "25%           5.650000\n",
       "50%          22.000000\n",
       "75%          77.050000\n",
       "max       25691.160000\n",
       "Name: Amount, dtype: float64"
      ]
     },
     "execution_count": 11,
     "metadata": {},
     "output_type": "execute_result"
    }
   ],
   "source": [
    "# statistical measures of the data\n",
    "legit['Amount'].describe()"
   ]
  },
  {
   "cell_type": "code",
   "execution_count": 12,
   "id": "45f6c3f7",
   "metadata": {
    "execution": {
     "iopub.execute_input": "2022-09-01T04:03:44.294087Z",
     "iopub.status.busy": "2022-09-01T04:03:44.292558Z",
     "iopub.status.idle": "2022-09-01T04:03:44.306408Z",
     "shell.execute_reply": "2022-09-01T04:03:44.305081Z"
    },
    "papermill": {
     "duration": 0.028791,
     "end_time": "2022-09-01T04:03:44.309189",
     "exception": false,
     "start_time": "2022-09-01T04:03:44.280398",
     "status": "completed"
    },
    "tags": []
   },
   "outputs": [
    {
     "data": {
      "text/plain": [
       "count     492.000000\n",
       "mean      122.211321\n",
       "std       256.683288\n",
       "min         0.000000\n",
       "25%         1.000000\n",
       "50%         9.250000\n",
       "75%       105.890000\n",
       "max      2125.870000\n",
       "Name: Amount, dtype: float64"
      ]
     },
     "execution_count": 12,
     "metadata": {},
     "output_type": "execute_result"
    }
   ],
   "source": [
    "fraud['Amount'].describe()"
   ]
  },
  {
   "cell_type": "code",
   "execution_count": 13,
   "id": "4099ed2a",
   "metadata": {
    "execution": {
     "iopub.execute_input": "2022-09-01T04:03:44.333469Z",
     "iopub.status.busy": "2022-09-01T04:03:44.332444Z",
     "iopub.status.idle": "2022-09-01T04:03:44.503375Z",
     "shell.execute_reply": "2022-09-01T04:03:44.502044Z"
    },
    "papermill": {
     "duration": 0.186134,
     "end_time": "2022-09-01T04:03:44.506253",
     "exception": false,
     "start_time": "2022-09-01T04:03:44.320119",
     "status": "completed"
    },
    "tags": []
   },
   "outputs": [
    {
     "data": {
      "text/html": [
       "<div>\n",
       "<style scoped>\n",
       "    .dataframe tbody tr th:only-of-type {\n",
       "        vertical-align: middle;\n",
       "    }\n",
       "\n",
       "    .dataframe tbody tr th {\n",
       "        vertical-align: top;\n",
       "    }\n",
       "\n",
       "    .dataframe thead th {\n",
       "        text-align: right;\n",
       "    }\n",
       "</style>\n",
       "<table border=\"1\" class=\"dataframe\">\n",
       "  <thead>\n",
       "    <tr style=\"text-align: right;\">\n",
       "      <th></th>\n",
       "      <th>Time</th>\n",
       "      <th>V1</th>\n",
       "      <th>V2</th>\n",
       "      <th>V3</th>\n",
       "      <th>V4</th>\n",
       "      <th>V5</th>\n",
       "      <th>V6</th>\n",
       "      <th>V7</th>\n",
       "      <th>V8</th>\n",
       "      <th>V9</th>\n",
       "      <th>...</th>\n",
       "      <th>V20</th>\n",
       "      <th>V21</th>\n",
       "      <th>V22</th>\n",
       "      <th>V23</th>\n",
       "      <th>V24</th>\n",
       "      <th>V25</th>\n",
       "      <th>V26</th>\n",
       "      <th>V27</th>\n",
       "      <th>V28</th>\n",
       "      <th>Amount</th>\n",
       "    </tr>\n",
       "    <tr>\n",
       "      <th>Class</th>\n",
       "      <th></th>\n",
       "      <th></th>\n",
       "      <th></th>\n",
       "      <th></th>\n",
       "      <th></th>\n",
       "      <th></th>\n",
       "      <th></th>\n",
       "      <th></th>\n",
       "      <th></th>\n",
       "      <th></th>\n",
       "      <th></th>\n",
       "      <th></th>\n",
       "      <th></th>\n",
       "      <th></th>\n",
       "      <th></th>\n",
       "      <th></th>\n",
       "      <th></th>\n",
       "      <th></th>\n",
       "      <th></th>\n",
       "      <th></th>\n",
       "      <th></th>\n",
       "    </tr>\n",
       "  </thead>\n",
       "  <tbody>\n",
       "    <tr>\n",
       "      <th>0</th>\n",
       "      <td>94838.202258</td>\n",
       "      <td>0.008258</td>\n",
       "      <td>-0.006271</td>\n",
       "      <td>0.012171</td>\n",
       "      <td>-0.007860</td>\n",
       "      <td>0.005453</td>\n",
       "      <td>0.002419</td>\n",
       "      <td>0.009637</td>\n",
       "      <td>-0.000987</td>\n",
       "      <td>0.004467</td>\n",
       "      <td>...</td>\n",
       "      <td>-0.000644</td>\n",
       "      <td>-0.001235</td>\n",
       "      <td>-0.000024</td>\n",
       "      <td>0.000070</td>\n",
       "      <td>0.000182</td>\n",
       "      <td>-0.000072</td>\n",
       "      <td>-0.000089</td>\n",
       "      <td>-0.000295</td>\n",
       "      <td>-0.000131</td>\n",
       "      <td>88.291022</td>\n",
       "    </tr>\n",
       "    <tr>\n",
       "      <th>1</th>\n",
       "      <td>80746.806911</td>\n",
       "      <td>-4.771948</td>\n",
       "      <td>3.623778</td>\n",
       "      <td>-7.033281</td>\n",
       "      <td>4.542029</td>\n",
       "      <td>-3.151225</td>\n",
       "      <td>-1.397737</td>\n",
       "      <td>-5.568731</td>\n",
       "      <td>0.570636</td>\n",
       "      <td>-2.581123</td>\n",
       "      <td>...</td>\n",
       "      <td>0.372319</td>\n",
       "      <td>0.713588</td>\n",
       "      <td>0.014049</td>\n",
       "      <td>-0.040308</td>\n",
       "      <td>-0.105130</td>\n",
       "      <td>0.041449</td>\n",
       "      <td>0.051648</td>\n",
       "      <td>0.170575</td>\n",
       "      <td>0.075667</td>\n",
       "      <td>122.211321</td>\n",
       "    </tr>\n",
       "  </tbody>\n",
       "</table>\n",
       "<p>2 rows × 30 columns</p>\n",
       "</div>"
      ],
      "text/plain": [
       "               Time        V1        V2        V3        V4        V5  \\\n",
       "Class                                                                   \n",
       "0      94838.202258  0.008258 -0.006271  0.012171 -0.007860  0.005453   \n",
       "1      80746.806911 -4.771948  3.623778 -7.033281  4.542029 -3.151225   \n",
       "\n",
       "             V6        V7        V8        V9  ...       V20       V21  \\\n",
       "Class                                          ...                       \n",
       "0      0.002419  0.009637 -0.000987  0.004467  ... -0.000644 -0.001235   \n",
       "1     -1.397737 -5.568731  0.570636 -2.581123  ...  0.372319  0.713588   \n",
       "\n",
       "            V22       V23       V24       V25       V26       V27       V28  \\\n",
       "Class                                                                         \n",
       "0     -0.000024  0.000070  0.000182 -0.000072 -0.000089 -0.000295 -0.000131   \n",
       "1      0.014049 -0.040308 -0.105130  0.041449  0.051648  0.170575  0.075667   \n",
       "\n",
       "           Amount  \n",
       "Class              \n",
       "0       88.291022  \n",
       "1      122.211321  \n",
       "\n",
       "[2 rows x 30 columns]"
      ]
     },
     "execution_count": 13,
     "metadata": {},
     "output_type": "execute_result"
    }
   ],
   "source": [
    "# Compare the values for both transactions\n",
    "credit_card_data.groupby('Class').mean()\n"
   ]
  },
  {
   "cell_type": "markdown",
   "id": "02d26cb3",
   "metadata": {
    "papermill": {
     "duration": 0.010584,
     "end_time": "2022-09-01T04:03:44.528179",
     "exception": false,
     "start_time": "2022-09-01T04:03:44.517595",
     "status": "completed"
    },
    "tags": []
   },
   "source": [
    "Under Sampling "
   ]
  },
  {
   "cell_type": "markdown",
   "id": "8218ab55",
   "metadata": {
    "papermill": {
     "duration": 0.010773,
     "end_time": "2022-09-01T04:03:44.550120",
     "exception": false,
     "start_time": "2022-09-01T04:03:44.539347",
     "status": "completed"
    },
    "tags": []
   },
   "source": [
    "Build a sample dataset containing similar distribution of normal transactions and the fraudulent transactions"
   ]
  },
  {
   "cell_type": "markdown",
   "id": "a4f97b74",
   "metadata": {
    "papermill": {
     "duration": 0.010567,
     "end_time": "2022-09-01T04:03:44.571743",
     "exception": false,
     "start_time": "2022-09-01T04:03:44.561176",
     "status": "completed"
    },
    "tags": []
   },
   "source": [
    "Number of fraudulent transaction --> 492"
   ]
  },
  {
   "cell_type": "code",
   "execution_count": 14,
   "id": "992511ec",
   "metadata": {
    "execution": {
     "iopub.execute_input": "2022-09-01T04:03:44.596535Z",
     "iopub.status.busy": "2022-09-01T04:03:44.595565Z",
     "iopub.status.idle": "2022-09-01T04:03:44.615632Z",
     "shell.execute_reply": "2022-09-01T04:03:44.614319Z"
    },
    "papermill": {
     "duration": 0.035815,
     "end_time": "2022-09-01T04:03:44.618578",
     "exception": false,
     "start_time": "2022-09-01T04:03:44.582763",
     "status": "completed"
    },
    "tags": []
   },
   "outputs": [],
   "source": [
    "legit_sample = legit.sample(n=4000)"
   ]
  },
  {
   "cell_type": "markdown",
   "id": "ae053205",
   "metadata": {
    "papermill": {
     "duration": 0.010775,
     "end_time": "2022-09-01T04:03:44.640608",
     "exception": false,
     "start_time": "2022-09-01T04:03:44.629833",
     "status": "completed"
    },
    "tags": []
   },
   "source": [
    "Concatenating two data frames"
   ]
  },
  {
   "cell_type": "code",
   "execution_count": 15,
   "id": "67ecc2c2",
   "metadata": {
    "execution": {
     "iopub.execute_input": "2022-09-01T04:03:44.665982Z",
     "iopub.status.busy": "2022-09-01T04:03:44.665034Z",
     "iopub.status.idle": "2022-09-01T04:03:44.672571Z",
     "shell.execute_reply": "2022-09-01T04:03:44.671647Z"
    },
    "papermill": {
     "duration": 0.023436,
     "end_time": "2022-09-01T04:03:44.675339",
     "exception": false,
     "start_time": "2022-09-01T04:03:44.651903",
     "status": "completed"
    },
    "tags": []
   },
   "outputs": [],
   "source": [
    "new_dataset = pd.concat([legit_sample, fraud], axis = 0)"
   ]
  },
  {
   "cell_type": "code",
   "execution_count": 16,
   "id": "8530489c",
   "metadata": {
    "execution": {
     "iopub.execute_input": "2022-09-01T04:03:44.701093Z",
     "iopub.status.busy": "2022-09-01T04:03:44.700137Z",
     "iopub.status.idle": "2022-09-01T04:03:44.729297Z",
     "shell.execute_reply": "2022-09-01T04:03:44.727732Z"
    },
    "papermill": {
     "duration": 0.04549,
     "end_time": "2022-09-01T04:03:44.732341",
     "exception": false,
     "start_time": "2022-09-01T04:03:44.686851",
     "status": "completed"
    },
    "tags": []
   },
   "outputs": [
    {
     "data": {
      "text/html": [
       "<div>\n",
       "<style scoped>\n",
       "    .dataframe tbody tr th:only-of-type {\n",
       "        vertical-align: middle;\n",
       "    }\n",
       "\n",
       "    .dataframe tbody tr th {\n",
       "        vertical-align: top;\n",
       "    }\n",
       "\n",
       "    .dataframe thead th {\n",
       "        text-align: right;\n",
       "    }\n",
       "</style>\n",
       "<table border=\"1\" class=\"dataframe\">\n",
       "  <thead>\n",
       "    <tr style=\"text-align: right;\">\n",
       "      <th></th>\n",
       "      <th>Time</th>\n",
       "      <th>V1</th>\n",
       "      <th>V2</th>\n",
       "      <th>V3</th>\n",
       "      <th>V4</th>\n",
       "      <th>V5</th>\n",
       "      <th>V6</th>\n",
       "      <th>V7</th>\n",
       "      <th>V8</th>\n",
       "      <th>V9</th>\n",
       "      <th>...</th>\n",
       "      <th>V21</th>\n",
       "      <th>V22</th>\n",
       "      <th>V23</th>\n",
       "      <th>V24</th>\n",
       "      <th>V25</th>\n",
       "      <th>V26</th>\n",
       "      <th>V27</th>\n",
       "      <th>V28</th>\n",
       "      <th>Amount</th>\n",
       "      <th>Class</th>\n",
       "    </tr>\n",
       "  </thead>\n",
       "  <tbody>\n",
       "    <tr>\n",
       "      <th>171060</th>\n",
       "      <td>120481.0</td>\n",
       "      <td>2.151398</td>\n",
       "      <td>0.106439</td>\n",
       "      <td>-2.393202</td>\n",
       "      <td>-0.021367</td>\n",
       "      <td>1.220019</td>\n",
       "      <td>-0.326100</td>\n",
       "      <td>0.613515</td>\n",
       "      <td>-0.327701</td>\n",
       "      <td>-0.224390</td>\n",
       "      <td>...</td>\n",
       "      <td>0.099780</td>\n",
       "      <td>0.488596</td>\n",
       "      <td>-0.128478</td>\n",
       "      <td>-0.033844</td>\n",
       "      <td>0.522977</td>\n",
       "      <td>0.710215</td>\n",
       "      <td>-0.115125</td>\n",
       "      <td>-0.094740</td>\n",
       "      <td>0.76</td>\n",
       "      <td>0</td>\n",
       "    </tr>\n",
       "    <tr>\n",
       "      <th>60820</th>\n",
       "      <td>49519.0</td>\n",
       "      <td>-4.642436</td>\n",
       "      <td>3.971938</td>\n",
       "      <td>-2.189159</td>\n",
       "      <td>-0.027918</td>\n",
       "      <td>-2.732229</td>\n",
       "      <td>-1.536145</td>\n",
       "      <td>-1.953318</td>\n",
       "      <td>3.090820</td>\n",
       "      <td>0.230086</td>\n",
       "      <td>...</td>\n",
       "      <td>-0.239068</td>\n",
       "      <td>-1.108159</td>\n",
       "      <td>0.400319</td>\n",
       "      <td>0.256096</td>\n",
       "      <td>0.344172</td>\n",
       "      <td>0.127163</td>\n",
       "      <td>0.206869</td>\n",
       "      <td>0.130756</td>\n",
       "      <td>9.98</td>\n",
       "      <td>0</td>\n",
       "    </tr>\n",
       "    <tr>\n",
       "      <th>233874</th>\n",
       "      <td>147739.0</td>\n",
       "      <td>-0.419025</td>\n",
       "      <td>0.152113</td>\n",
       "      <td>1.349451</td>\n",
       "      <td>-0.425302</td>\n",
       "      <td>-0.513237</td>\n",
       "      <td>-1.034473</td>\n",
       "      <td>0.985995</td>\n",
       "      <td>-0.632988</td>\n",
       "      <td>-1.418616</td>\n",
       "      <td>...</td>\n",
       "      <td>-0.034956</td>\n",
       "      <td>0.700035</td>\n",
       "      <td>-0.313027</td>\n",
       "      <td>0.920180</td>\n",
       "      <td>0.863819</td>\n",
       "      <td>0.198395</td>\n",
       "      <td>-0.275729</td>\n",
       "      <td>-0.273303</td>\n",
       "      <td>85.00</td>\n",
       "      <td>0</td>\n",
       "    </tr>\n",
       "    <tr>\n",
       "      <th>34346</th>\n",
       "      <td>37623.0</td>\n",
       "      <td>0.782193</td>\n",
       "      <td>-1.362032</td>\n",
       "      <td>0.241949</td>\n",
       "      <td>-0.209407</td>\n",
       "      <td>-1.624684</td>\n",
       "      <td>-1.314955</td>\n",
       "      <td>0.036367</td>\n",
       "      <td>-0.354156</td>\n",
       "      <td>-0.941393</td>\n",
       "      <td>...</td>\n",
       "      <td>-0.377274</td>\n",
       "      <td>-1.327232</td>\n",
       "      <td>-0.003835</td>\n",
       "      <td>0.919323</td>\n",
       "      <td>-0.129062</td>\n",
       "      <td>0.752786</td>\n",
       "      <td>-0.117710</td>\n",
       "      <td>0.067219</td>\n",
       "      <td>306.00</td>\n",
       "      <td>0</td>\n",
       "    </tr>\n",
       "    <tr>\n",
       "      <th>42813</th>\n",
       "      <td>41258.0</td>\n",
       "      <td>-0.860832</td>\n",
       "      <td>0.895254</td>\n",
       "      <td>1.696484</td>\n",
       "      <td>-0.608873</td>\n",
       "      <td>0.380659</td>\n",
       "      <td>-0.698880</td>\n",
       "      <td>1.439338</td>\n",
       "      <td>-0.308292</td>\n",
       "      <td>-0.813595</td>\n",
       "      <td>...</td>\n",
       "      <td>-0.359553</td>\n",
       "      <td>-1.108444</td>\n",
       "      <td>-0.111638</td>\n",
       "      <td>0.275971</td>\n",
       "      <td>0.171471</td>\n",
       "      <td>-0.144655</td>\n",
       "      <td>-0.323913</td>\n",
       "      <td>-0.181991</td>\n",
       "      <td>53.13</td>\n",
       "      <td>0</td>\n",
       "    </tr>\n",
       "  </tbody>\n",
       "</table>\n",
       "<p>5 rows × 31 columns</p>\n",
       "</div>"
      ],
      "text/plain": [
       "            Time        V1        V2        V3        V4        V5        V6  \\\n",
       "171060  120481.0  2.151398  0.106439 -2.393202 -0.021367  1.220019 -0.326100   \n",
       "60820    49519.0 -4.642436  3.971938 -2.189159 -0.027918 -2.732229 -1.536145   \n",
       "233874  147739.0 -0.419025  0.152113  1.349451 -0.425302 -0.513237 -1.034473   \n",
       "34346    37623.0  0.782193 -1.362032  0.241949 -0.209407 -1.624684 -1.314955   \n",
       "42813    41258.0 -0.860832  0.895254  1.696484 -0.608873  0.380659 -0.698880   \n",
       "\n",
       "              V7        V8        V9  ...       V21       V22       V23  \\\n",
       "171060  0.613515 -0.327701 -0.224390  ...  0.099780  0.488596 -0.128478   \n",
       "60820  -1.953318  3.090820  0.230086  ... -0.239068 -1.108159  0.400319   \n",
       "233874  0.985995 -0.632988 -1.418616  ... -0.034956  0.700035 -0.313027   \n",
       "34346   0.036367 -0.354156 -0.941393  ... -0.377274 -1.327232 -0.003835   \n",
       "42813   1.439338 -0.308292 -0.813595  ... -0.359553 -1.108444 -0.111638   \n",
       "\n",
       "             V24       V25       V26       V27       V28  Amount  Class  \n",
       "171060 -0.033844  0.522977  0.710215 -0.115125 -0.094740    0.76      0  \n",
       "60820   0.256096  0.344172  0.127163  0.206869  0.130756    9.98      0  \n",
       "233874  0.920180  0.863819  0.198395 -0.275729 -0.273303   85.00      0  \n",
       "34346   0.919323 -0.129062  0.752786 -0.117710  0.067219  306.00      0  \n",
       "42813   0.275971  0.171471 -0.144655 -0.323913 -0.181991   53.13      0  \n",
       "\n",
       "[5 rows x 31 columns]"
      ]
     },
     "execution_count": 16,
     "metadata": {},
     "output_type": "execute_result"
    }
   ],
   "source": [
    "new_dataset.head()"
   ]
  },
  {
   "cell_type": "code",
   "execution_count": 17,
   "id": "a5bc6555",
   "metadata": {
    "execution": {
     "iopub.execute_input": "2022-09-01T04:03:44.758620Z",
     "iopub.status.busy": "2022-09-01T04:03:44.757481Z",
     "iopub.status.idle": "2022-09-01T04:03:44.786402Z",
     "shell.execute_reply": "2022-09-01T04:03:44.785434Z"
    },
    "papermill": {
     "duration": 0.045101,
     "end_time": "2022-09-01T04:03:44.789036",
     "exception": false,
     "start_time": "2022-09-01T04:03:44.743935",
     "status": "completed"
    },
    "tags": []
   },
   "outputs": [
    {
     "data": {
      "text/html": [
       "<div>\n",
       "<style scoped>\n",
       "    .dataframe tbody tr th:only-of-type {\n",
       "        vertical-align: middle;\n",
       "    }\n",
       "\n",
       "    .dataframe tbody tr th {\n",
       "        vertical-align: top;\n",
       "    }\n",
       "\n",
       "    .dataframe thead th {\n",
       "        text-align: right;\n",
       "    }\n",
       "</style>\n",
       "<table border=\"1\" class=\"dataframe\">\n",
       "  <thead>\n",
       "    <tr style=\"text-align: right;\">\n",
       "      <th></th>\n",
       "      <th>Time</th>\n",
       "      <th>V1</th>\n",
       "      <th>V2</th>\n",
       "      <th>V3</th>\n",
       "      <th>V4</th>\n",
       "      <th>V5</th>\n",
       "      <th>V6</th>\n",
       "      <th>V7</th>\n",
       "      <th>V8</th>\n",
       "      <th>V9</th>\n",
       "      <th>...</th>\n",
       "      <th>V21</th>\n",
       "      <th>V22</th>\n",
       "      <th>V23</th>\n",
       "      <th>V24</th>\n",
       "      <th>V25</th>\n",
       "      <th>V26</th>\n",
       "      <th>V27</th>\n",
       "      <th>V28</th>\n",
       "      <th>Amount</th>\n",
       "      <th>Class</th>\n",
       "    </tr>\n",
       "  </thead>\n",
       "  <tbody>\n",
       "    <tr>\n",
       "      <th>279863</th>\n",
       "      <td>169142.0</td>\n",
       "      <td>-1.927883</td>\n",
       "      <td>1.125653</td>\n",
       "      <td>-4.518331</td>\n",
       "      <td>1.749293</td>\n",
       "      <td>-1.566487</td>\n",
       "      <td>-2.010494</td>\n",
       "      <td>-0.882850</td>\n",
       "      <td>0.697211</td>\n",
       "      <td>-2.064945</td>\n",
       "      <td>...</td>\n",
       "      <td>0.778584</td>\n",
       "      <td>-0.319189</td>\n",
       "      <td>0.639419</td>\n",
       "      <td>-0.294885</td>\n",
       "      <td>0.537503</td>\n",
       "      <td>0.788395</td>\n",
       "      <td>0.292680</td>\n",
       "      <td>0.147968</td>\n",
       "      <td>390.00</td>\n",
       "      <td>1</td>\n",
       "    </tr>\n",
       "    <tr>\n",
       "      <th>280143</th>\n",
       "      <td>169347.0</td>\n",
       "      <td>1.378559</td>\n",
       "      <td>1.289381</td>\n",
       "      <td>-5.004247</td>\n",
       "      <td>1.411850</td>\n",
       "      <td>0.442581</td>\n",
       "      <td>-1.326536</td>\n",
       "      <td>-1.413170</td>\n",
       "      <td>0.248525</td>\n",
       "      <td>-1.127396</td>\n",
       "      <td>...</td>\n",
       "      <td>0.370612</td>\n",
       "      <td>0.028234</td>\n",
       "      <td>-0.145640</td>\n",
       "      <td>-0.081049</td>\n",
       "      <td>0.521875</td>\n",
       "      <td>0.739467</td>\n",
       "      <td>0.389152</td>\n",
       "      <td>0.186637</td>\n",
       "      <td>0.76</td>\n",
       "      <td>1</td>\n",
       "    </tr>\n",
       "    <tr>\n",
       "      <th>280149</th>\n",
       "      <td>169351.0</td>\n",
       "      <td>-0.676143</td>\n",
       "      <td>1.126366</td>\n",
       "      <td>-2.213700</td>\n",
       "      <td>0.468308</td>\n",
       "      <td>-1.120541</td>\n",
       "      <td>-0.003346</td>\n",
       "      <td>-2.234739</td>\n",
       "      <td>1.210158</td>\n",
       "      <td>-0.652250</td>\n",
       "      <td>...</td>\n",
       "      <td>0.751826</td>\n",
       "      <td>0.834108</td>\n",
       "      <td>0.190944</td>\n",
       "      <td>0.032070</td>\n",
       "      <td>-0.739695</td>\n",
       "      <td>0.471111</td>\n",
       "      <td>0.385107</td>\n",
       "      <td>0.194361</td>\n",
       "      <td>77.89</td>\n",
       "      <td>1</td>\n",
       "    </tr>\n",
       "    <tr>\n",
       "      <th>281144</th>\n",
       "      <td>169966.0</td>\n",
       "      <td>-3.113832</td>\n",
       "      <td>0.585864</td>\n",
       "      <td>-5.399730</td>\n",
       "      <td>1.817092</td>\n",
       "      <td>-0.840618</td>\n",
       "      <td>-2.943548</td>\n",
       "      <td>-2.208002</td>\n",
       "      <td>1.058733</td>\n",
       "      <td>-1.632333</td>\n",
       "      <td>...</td>\n",
       "      <td>0.583276</td>\n",
       "      <td>-0.269209</td>\n",
       "      <td>-0.456108</td>\n",
       "      <td>-0.183659</td>\n",
       "      <td>-0.328168</td>\n",
       "      <td>0.606116</td>\n",
       "      <td>0.884876</td>\n",
       "      <td>-0.253700</td>\n",
       "      <td>245.00</td>\n",
       "      <td>1</td>\n",
       "    </tr>\n",
       "    <tr>\n",
       "      <th>281674</th>\n",
       "      <td>170348.0</td>\n",
       "      <td>1.991976</td>\n",
       "      <td>0.158476</td>\n",
       "      <td>-2.583441</td>\n",
       "      <td>0.408670</td>\n",
       "      <td>1.151147</td>\n",
       "      <td>-0.096695</td>\n",
       "      <td>0.223050</td>\n",
       "      <td>-0.068384</td>\n",
       "      <td>0.577829</td>\n",
       "      <td>...</td>\n",
       "      <td>-0.164350</td>\n",
       "      <td>-0.295135</td>\n",
       "      <td>-0.072173</td>\n",
       "      <td>-0.450261</td>\n",
       "      <td>0.313267</td>\n",
       "      <td>-0.289617</td>\n",
       "      <td>0.002988</td>\n",
       "      <td>-0.015309</td>\n",
       "      <td>42.53</td>\n",
       "      <td>1</td>\n",
       "    </tr>\n",
       "  </tbody>\n",
       "</table>\n",
       "<p>5 rows × 31 columns</p>\n",
       "</div>"
      ],
      "text/plain": [
       "            Time        V1        V2        V3        V4        V5        V6  \\\n",
       "279863  169142.0 -1.927883  1.125653 -4.518331  1.749293 -1.566487 -2.010494   \n",
       "280143  169347.0  1.378559  1.289381 -5.004247  1.411850  0.442581 -1.326536   \n",
       "280149  169351.0 -0.676143  1.126366 -2.213700  0.468308 -1.120541 -0.003346   \n",
       "281144  169966.0 -3.113832  0.585864 -5.399730  1.817092 -0.840618 -2.943548   \n",
       "281674  170348.0  1.991976  0.158476 -2.583441  0.408670  1.151147 -0.096695   \n",
       "\n",
       "              V7        V8        V9  ...       V21       V22       V23  \\\n",
       "279863 -0.882850  0.697211 -2.064945  ...  0.778584 -0.319189  0.639419   \n",
       "280143 -1.413170  0.248525 -1.127396  ...  0.370612  0.028234 -0.145640   \n",
       "280149 -2.234739  1.210158 -0.652250  ...  0.751826  0.834108  0.190944   \n",
       "281144 -2.208002  1.058733 -1.632333  ...  0.583276 -0.269209 -0.456108   \n",
       "281674  0.223050 -0.068384  0.577829  ... -0.164350 -0.295135 -0.072173   \n",
       "\n",
       "             V24       V25       V26       V27       V28  Amount  Class  \n",
       "279863 -0.294885  0.537503  0.788395  0.292680  0.147968  390.00      1  \n",
       "280143 -0.081049  0.521875  0.739467  0.389152  0.186637    0.76      1  \n",
       "280149  0.032070 -0.739695  0.471111  0.385107  0.194361   77.89      1  \n",
       "281144 -0.183659 -0.328168  0.606116  0.884876 -0.253700  245.00      1  \n",
       "281674 -0.450261  0.313267 -0.289617  0.002988 -0.015309   42.53      1  \n",
       "\n",
       "[5 rows x 31 columns]"
      ]
     },
     "execution_count": 17,
     "metadata": {},
     "output_type": "execute_result"
    }
   ],
   "source": [
    "new_dataset.tail()"
   ]
  },
  {
   "cell_type": "code",
   "execution_count": 18,
   "id": "de4a5d72",
   "metadata": {
    "execution": {
     "iopub.execute_input": "2022-09-01T04:03:44.815835Z",
     "iopub.status.busy": "2022-09-01T04:03:44.815038Z",
     "iopub.status.idle": "2022-09-01T04:03:44.823901Z",
     "shell.execute_reply": "2022-09-01T04:03:44.822946Z"
    },
    "papermill": {
     "duration": 0.025408,
     "end_time": "2022-09-01T04:03:44.826587",
     "exception": false,
     "start_time": "2022-09-01T04:03:44.801179",
     "status": "completed"
    },
    "tags": []
   },
   "outputs": [
    {
     "data": {
      "text/plain": [
       "0    4000\n",
       "1     492\n",
       "Name: Class, dtype: int64"
      ]
     },
     "execution_count": 18,
     "metadata": {},
     "output_type": "execute_result"
    }
   ],
   "source": [
    "new_dataset['Class'].value_counts()"
   ]
  },
  {
   "cell_type": "code",
   "execution_count": 19,
   "id": "143426e9",
   "metadata": {
    "execution": {
     "iopub.execute_input": "2022-09-01T04:03:44.853014Z",
     "iopub.status.busy": "2022-09-01T04:03:44.852258Z",
     "iopub.status.idle": "2022-09-01T04:03:44.880171Z",
     "shell.execute_reply": "2022-09-01T04:03:44.879147Z"
    },
    "papermill": {
     "duration": 0.044034,
     "end_time": "2022-09-01T04:03:44.882506",
     "exception": false,
     "start_time": "2022-09-01T04:03:44.838472",
     "status": "completed"
    },
    "tags": []
   },
   "outputs": [
    {
     "data": {
      "text/html": [
       "<div>\n",
       "<style scoped>\n",
       "    .dataframe tbody tr th:only-of-type {\n",
       "        vertical-align: middle;\n",
       "    }\n",
       "\n",
       "    .dataframe tbody tr th {\n",
       "        vertical-align: top;\n",
       "    }\n",
       "\n",
       "    .dataframe thead th {\n",
       "        text-align: right;\n",
       "    }\n",
       "</style>\n",
       "<table border=\"1\" class=\"dataframe\">\n",
       "  <thead>\n",
       "    <tr style=\"text-align: right;\">\n",
       "      <th></th>\n",
       "      <th>Time</th>\n",
       "      <th>V1</th>\n",
       "      <th>V2</th>\n",
       "      <th>V3</th>\n",
       "      <th>V4</th>\n",
       "      <th>V5</th>\n",
       "      <th>V6</th>\n",
       "      <th>V7</th>\n",
       "      <th>V8</th>\n",
       "      <th>V9</th>\n",
       "      <th>...</th>\n",
       "      <th>V20</th>\n",
       "      <th>V21</th>\n",
       "      <th>V22</th>\n",
       "      <th>V23</th>\n",
       "      <th>V24</th>\n",
       "      <th>V25</th>\n",
       "      <th>V26</th>\n",
       "      <th>V27</th>\n",
       "      <th>V28</th>\n",
       "      <th>Amount</th>\n",
       "    </tr>\n",
       "    <tr>\n",
       "      <th>Class</th>\n",
       "      <th></th>\n",
       "      <th></th>\n",
       "      <th></th>\n",
       "      <th></th>\n",
       "      <th></th>\n",
       "      <th></th>\n",
       "      <th></th>\n",
       "      <th></th>\n",
       "      <th></th>\n",
       "      <th></th>\n",
       "      <th></th>\n",
       "      <th></th>\n",
       "      <th></th>\n",
       "      <th></th>\n",
       "      <th></th>\n",
       "      <th></th>\n",
       "      <th></th>\n",
       "      <th></th>\n",
       "      <th></th>\n",
       "      <th></th>\n",
       "      <th></th>\n",
       "    </tr>\n",
       "  </thead>\n",
       "  <tbody>\n",
       "    <tr>\n",
       "      <th>0</th>\n",
       "      <td>95417.791250</td>\n",
       "      <td>-0.020584</td>\n",
       "      <td>-0.038269</td>\n",
       "      <td>-0.006000</td>\n",
       "      <td>0.022348</td>\n",
       "      <td>0.006048</td>\n",
       "      <td>-0.014865</td>\n",
       "      <td>0.002869</td>\n",
       "      <td>0.004538</td>\n",
       "      <td>0.000710</td>\n",
       "      <td>...</td>\n",
       "      <td>-0.018594</td>\n",
       "      <td>-0.011581</td>\n",
       "      <td>-0.008677</td>\n",
       "      <td>-0.013440</td>\n",
       "      <td>-0.001025</td>\n",
       "      <td>-0.004312</td>\n",
       "      <td>-0.006521</td>\n",
       "      <td>0.002237</td>\n",
       "      <td>-0.000575</td>\n",
       "      <td>88.460085</td>\n",
       "    </tr>\n",
       "    <tr>\n",
       "      <th>1</th>\n",
       "      <td>80746.806911</td>\n",
       "      <td>-4.771948</td>\n",
       "      <td>3.623778</td>\n",
       "      <td>-7.033281</td>\n",
       "      <td>4.542029</td>\n",
       "      <td>-3.151225</td>\n",
       "      <td>-1.397737</td>\n",
       "      <td>-5.568731</td>\n",
       "      <td>0.570636</td>\n",
       "      <td>-2.581123</td>\n",
       "      <td>...</td>\n",
       "      <td>0.372319</td>\n",
       "      <td>0.713588</td>\n",
       "      <td>0.014049</td>\n",
       "      <td>-0.040308</td>\n",
       "      <td>-0.105130</td>\n",
       "      <td>0.041449</td>\n",
       "      <td>0.051648</td>\n",
       "      <td>0.170575</td>\n",
       "      <td>0.075667</td>\n",
       "      <td>122.211321</td>\n",
       "    </tr>\n",
       "  </tbody>\n",
       "</table>\n",
       "<p>2 rows × 30 columns</p>\n",
       "</div>"
      ],
      "text/plain": [
       "               Time        V1        V2        V3        V4        V5  \\\n",
       "Class                                                                   \n",
       "0      95417.791250 -0.020584 -0.038269 -0.006000  0.022348  0.006048   \n",
       "1      80746.806911 -4.771948  3.623778 -7.033281  4.542029 -3.151225   \n",
       "\n",
       "             V6        V7        V8        V9  ...       V20       V21  \\\n",
       "Class                                          ...                       \n",
       "0     -0.014865  0.002869  0.004538  0.000710  ... -0.018594 -0.011581   \n",
       "1     -1.397737 -5.568731  0.570636 -2.581123  ...  0.372319  0.713588   \n",
       "\n",
       "            V22       V23       V24       V25       V26       V27       V28  \\\n",
       "Class                                                                         \n",
       "0     -0.008677 -0.013440 -0.001025 -0.004312 -0.006521  0.002237 -0.000575   \n",
       "1      0.014049 -0.040308 -0.105130  0.041449  0.051648  0.170575  0.075667   \n",
       "\n",
       "           Amount  \n",
       "Class              \n",
       "0       88.460085  \n",
       "1      122.211321  \n",
       "\n",
       "[2 rows x 30 columns]"
      ]
     },
     "execution_count": 19,
     "metadata": {},
     "output_type": "execute_result"
    }
   ],
   "source": [
    "new_dataset.groupby('Class').mean()"
   ]
  },
  {
   "cell_type": "markdown",
   "id": "2cc4d470",
   "metadata": {
    "papermill": {
     "duration": 0.011579,
     "end_time": "2022-09-01T04:03:44.906202",
     "exception": false,
     "start_time": "2022-09-01T04:03:44.894623",
     "status": "completed"
    },
    "tags": []
   },
   "source": [
    "Splitting the data into Features & Targets"
   ]
  },
  {
   "cell_type": "code",
   "execution_count": 20,
   "id": "2baa4493",
   "metadata": {
    "execution": {
     "iopub.execute_input": "2022-09-01T04:03:44.933000Z",
     "iopub.status.busy": "2022-09-01T04:03:44.932205Z",
     "iopub.status.idle": "2022-09-01T04:03:44.940509Z",
     "shell.execute_reply": "2022-09-01T04:03:44.939022Z"
    },
    "papermill": {
     "duration": 0.026244,
     "end_time": "2022-09-01T04:03:44.944512",
     "exception": false,
     "start_time": "2022-09-01T04:03:44.918268",
     "status": "completed"
    },
    "tags": []
   },
   "outputs": [],
   "source": [
    "X = new_dataset.drop(columns = 'Class',axis = 1)\n",
    "Y = new_dataset['Class']"
   ]
  },
  {
   "cell_type": "code",
   "execution_count": 21,
   "id": "e8ae2cca",
   "metadata": {
    "execution": {
     "iopub.execute_input": "2022-09-01T04:03:44.974978Z",
     "iopub.status.busy": "2022-09-01T04:03:44.973514Z",
     "iopub.status.idle": "2022-09-01T04:03:44.998175Z",
     "shell.execute_reply": "2022-09-01T04:03:44.996462Z"
    },
    "papermill": {
     "duration": 0.044878,
     "end_time": "2022-09-01T04:03:45.003805",
     "exception": false,
     "start_time": "2022-09-01T04:03:44.958927",
     "status": "completed"
    },
    "tags": []
   },
   "outputs": [
    {
     "name": "stdout",
     "output_type": "stream",
     "text": [
      "            Time        V1        V2        V3        V4        V5        V6  \\\n",
      "171060  120481.0  2.151398  0.106439 -2.393202 -0.021367  1.220019 -0.326100   \n",
      "60820    49519.0 -4.642436  3.971938 -2.189159 -0.027918 -2.732229 -1.536145   \n",
      "233874  147739.0 -0.419025  0.152113  1.349451 -0.425302 -0.513237 -1.034473   \n",
      "34346    37623.0  0.782193 -1.362032  0.241949 -0.209407 -1.624684 -1.314955   \n",
      "42813    41258.0 -0.860832  0.895254  1.696484 -0.608873  0.380659 -0.698880   \n",
      "...          ...       ...       ...       ...       ...       ...       ...   \n",
      "279863  169142.0 -1.927883  1.125653 -4.518331  1.749293 -1.566487 -2.010494   \n",
      "280143  169347.0  1.378559  1.289381 -5.004247  1.411850  0.442581 -1.326536   \n",
      "280149  169351.0 -0.676143  1.126366 -2.213700  0.468308 -1.120541 -0.003346   \n",
      "281144  169966.0 -3.113832  0.585864 -5.399730  1.817092 -0.840618 -2.943548   \n",
      "281674  170348.0  1.991976  0.158476 -2.583441  0.408670  1.151147 -0.096695   \n",
      "\n",
      "              V7        V8        V9  ...       V20       V21       V22  \\\n",
      "171060  0.613515 -0.327701 -0.224390  ... -0.104271  0.099780  0.488596   \n",
      "60820  -1.953318  3.090820  0.230086  ...  0.240758 -0.239068 -1.108159   \n",
      "233874  0.985995 -0.632988 -1.418616  ... -0.277199 -0.034956  0.700035   \n",
      "34346   0.036367 -0.354156 -0.941393  ...  0.096522 -0.377274 -1.327232   \n",
      "42813   1.439338 -0.308292 -0.813595  ... -0.053559 -0.359553 -1.108444   \n",
      "...          ...       ...       ...  ...       ...       ...       ...   \n",
      "279863 -0.882850  0.697211 -2.064945  ...  1.252967  0.778584 -0.319189   \n",
      "280143 -1.413170  0.248525 -1.127396  ...  0.226138  0.370612  0.028234   \n",
      "280149 -2.234739  1.210158 -0.652250  ...  0.247968  0.751826  0.834108   \n",
      "281144 -2.208002  1.058733 -1.632333  ...  0.306271  0.583276 -0.269209   \n",
      "281674  0.223050 -0.068384  0.577829  ... -0.017652 -0.164350 -0.295135   \n",
      "\n",
      "             V23       V24       V25       V26       V27       V28  Amount  \n",
      "171060 -0.128478 -0.033844  0.522977  0.710215 -0.115125 -0.094740    0.76  \n",
      "60820   0.400319  0.256096  0.344172  0.127163  0.206869  0.130756    9.98  \n",
      "233874 -0.313027  0.920180  0.863819  0.198395 -0.275729 -0.273303   85.00  \n",
      "34346  -0.003835  0.919323 -0.129062  0.752786 -0.117710  0.067219  306.00  \n",
      "42813  -0.111638  0.275971  0.171471 -0.144655 -0.323913 -0.181991   53.13  \n",
      "...          ...       ...       ...       ...       ...       ...     ...  \n",
      "279863  0.639419 -0.294885  0.537503  0.788395  0.292680  0.147968  390.00  \n",
      "280143 -0.145640 -0.081049  0.521875  0.739467  0.389152  0.186637    0.76  \n",
      "280149  0.190944  0.032070 -0.739695  0.471111  0.385107  0.194361   77.89  \n",
      "281144 -0.456108 -0.183659 -0.328168  0.606116  0.884876 -0.253700  245.00  \n",
      "281674 -0.072173 -0.450261  0.313267 -0.289617  0.002988 -0.015309   42.53  \n",
      "\n",
      "[4492 rows x 30 columns]\n"
     ]
    }
   ],
   "source": [
    "print(X)"
   ]
  },
  {
   "cell_type": "code",
   "execution_count": 22,
   "id": "703368b8",
   "metadata": {
    "execution": {
     "iopub.execute_input": "2022-09-01T04:03:45.039389Z",
     "iopub.status.busy": "2022-09-01T04:03:45.038356Z",
     "iopub.status.idle": "2022-09-01T04:03:45.049332Z",
     "shell.execute_reply": "2022-09-01T04:03:45.047807Z"
    },
    "papermill": {
     "duration": 0.030955,
     "end_time": "2022-09-01T04:03:45.053620",
     "exception": false,
     "start_time": "2022-09-01T04:03:45.022665",
     "status": "completed"
    },
    "tags": []
   },
   "outputs": [
    {
     "name": "stdout",
     "output_type": "stream",
     "text": [
      "171060    0\n",
      "60820     0\n",
      "233874    0\n",
      "34346     0\n",
      "42813     0\n",
      "         ..\n",
      "279863    1\n",
      "280143    1\n",
      "280149    1\n",
      "281144    1\n",
      "281674    1\n",
      "Name: Class, Length: 4492, dtype: int64\n"
     ]
    }
   ],
   "source": [
    "print(Y)"
   ]
  },
  {
   "cell_type": "markdown",
   "id": "7c2692da",
   "metadata": {
    "papermill": {
     "duration": 0.01166,
     "end_time": "2022-09-01T04:03:45.078068",
     "exception": false,
     "start_time": "2022-09-01T04:03:45.066408",
     "status": "completed"
    },
    "tags": []
   },
   "source": [
    "To split the data into training and testing data"
   ]
  },
  {
   "cell_type": "code",
   "execution_count": 23,
   "id": "879536ac",
   "metadata": {
    "execution": {
     "iopub.execute_input": "2022-09-01T04:03:45.105026Z",
     "iopub.status.busy": "2022-09-01T04:03:45.103791Z",
     "iopub.status.idle": "2022-09-01T04:03:45.116423Z",
     "shell.execute_reply": "2022-09-01T04:03:45.115331Z"
    },
    "papermill": {
     "duration": 0.029106,
     "end_time": "2022-09-01T04:03:45.119227",
     "exception": false,
     "start_time": "2022-09-01T04:03:45.090121",
     "status": "completed"
    },
    "tags": []
   },
   "outputs": [],
   "source": [
    "X_train,X_test,Y_train,Y_test = train_test_split(X,Y,test_size = 0.2, stratify = Y, random_state = 2)\n"
   ]
  },
  {
   "cell_type": "code",
   "execution_count": 24,
   "id": "e2d9f0d7",
   "metadata": {
    "execution": {
     "iopub.execute_input": "2022-09-01T04:03:45.146786Z",
     "iopub.status.busy": "2022-09-01T04:03:45.145386Z",
     "iopub.status.idle": "2022-09-01T04:03:45.151736Z",
     "shell.execute_reply": "2022-09-01T04:03:45.150731Z"
    },
    "papermill": {
     "duration": 0.024739,
     "end_time": "2022-09-01T04:03:45.156177",
     "exception": false,
     "start_time": "2022-09-01T04:03:45.131438",
     "status": "completed"
    },
    "tags": []
   },
   "outputs": [
    {
     "name": "stdout",
     "output_type": "stream",
     "text": [
      "(4492, 30) (3593, 30) (899, 30)\n"
     ]
    }
   ],
   "source": [
    "print(X.shape,X_train.shape,X_test.shape)"
   ]
  },
  {
   "cell_type": "markdown",
   "id": "74d57a41",
   "metadata": {
    "papermill": {
     "duration": 0.011705,
     "end_time": "2022-09-01T04:03:45.180937",
     "exception": false,
     "start_time": "2022-09-01T04:03:45.169232",
     "status": "completed"
    },
    "tags": []
   },
   "source": [
    "Model Training"
   ]
  },
  {
   "cell_type": "markdown",
   "id": "a90563a0",
   "metadata": {
    "papermill": {
     "duration": 0.011881,
     "end_time": "2022-09-01T04:03:45.205451",
     "exception": false,
     "start_time": "2022-09-01T04:03:45.193570",
     "status": "completed"
    },
    "tags": []
   },
   "source": [
    "Logistic Regression"
   ]
  },
  {
   "cell_type": "code",
   "execution_count": 25,
   "id": "d60d39bc",
   "metadata": {
    "execution": {
     "iopub.execute_input": "2022-09-01T04:03:45.233084Z",
     "iopub.status.busy": "2022-09-01T04:03:45.231337Z",
     "iopub.status.idle": "2022-09-01T04:03:45.237842Z",
     "shell.execute_reply": "2022-09-01T04:03:45.236846Z"
    },
    "papermill": {
     "duration": 0.022845,
     "end_time": "2022-09-01T04:03:45.240545",
     "exception": false,
     "start_time": "2022-09-01T04:03:45.217700",
     "status": "completed"
    },
    "tags": []
   },
   "outputs": [],
   "source": [
    "model = LogisticRegression()"
   ]
  },
  {
   "cell_type": "code",
   "execution_count": 26,
   "id": "929bb0df",
   "metadata": {
    "execution": {
     "iopub.execute_input": "2022-09-01T04:03:45.268056Z",
     "iopub.status.busy": "2022-09-01T04:03:45.267075Z",
     "iopub.status.idle": "2022-09-01T04:03:45.432386Z",
     "shell.execute_reply": "2022-09-01T04:03:45.430944Z"
    },
    "papermill": {
     "duration": 0.185346,
     "end_time": "2022-09-01T04:03:45.438438",
     "exception": false,
     "start_time": "2022-09-01T04:03:45.253092",
     "status": "completed"
    },
    "tags": []
   },
   "outputs": [
    {
     "name": "stderr",
     "output_type": "stream",
     "text": [
      "/opt/conda/lib/python3.7/site-packages/sklearn/linear_model/_logistic.py:818: ConvergenceWarning: lbfgs failed to converge (status=1):\n",
      "STOP: TOTAL NO. of ITERATIONS REACHED LIMIT.\n",
      "\n",
      "Increase the number of iterations (max_iter) or scale the data as shown in:\n",
      "    https://scikit-learn.org/stable/modules/preprocessing.html\n",
      "Please also refer to the documentation for alternative solver options:\n",
      "    https://scikit-learn.org/stable/modules/linear_model.html#logistic-regression\n",
      "  extra_warning_msg=_LOGISTIC_SOLVER_CONVERGENCE_MSG,\n"
     ]
    },
    {
     "data": {
      "text/plain": [
       "LogisticRegression()"
      ]
     },
     "execution_count": 26,
     "metadata": {},
     "output_type": "execute_result"
    }
   ],
   "source": [
    "model.fit(X_train,Y_train)"
   ]
  },
  {
   "cell_type": "markdown",
   "id": "ac7843ae",
   "metadata": {
    "papermill": {
     "duration": 0.030997,
     "end_time": "2022-09-01T04:03:45.501379",
     "exception": false,
     "start_time": "2022-09-01T04:03:45.470382",
     "status": "completed"
    },
    "tags": []
   },
   "source": [
    "Model Evaluation"
   ]
  },
  {
   "cell_type": "markdown",
   "id": "a63ea97c",
   "metadata": {
    "papermill": {
     "duration": 0.015168,
     "end_time": "2022-09-01T04:03:45.548499",
     "exception": false,
     "start_time": "2022-09-01T04:03:45.533331",
     "status": "completed"
    },
    "tags": []
   },
   "source": [
    "Accuracy Score"
   ]
  },
  {
   "cell_type": "code",
   "execution_count": 27,
   "id": "9b18ea07",
   "metadata": {
    "execution": {
     "iopub.execute_input": "2022-09-01T04:03:45.575775Z",
     "iopub.status.busy": "2022-09-01T04:03:45.575251Z",
     "iopub.status.idle": "2022-09-01T04:03:45.592438Z",
     "shell.execute_reply": "2022-09-01T04:03:45.589161Z"
    },
    "papermill": {
     "duration": 0.0375,
     "end_time": "2022-09-01T04:03:45.598484",
     "exception": false,
     "start_time": "2022-09-01T04:03:45.560984",
     "status": "completed"
    },
    "tags": []
   },
   "outputs": [
    {
     "name": "stdout",
     "output_type": "stream",
     "text": [
      "Accuracy on training data :  0.9785694405789034\n"
     ]
    }
   ],
   "source": [
    "# accuracy on training data\n",
    "X_train_prediction = model.predict(X_train)\n",
    "training_data_accuracy = accuracy_score(X_train_prediction,Y_train)\n",
    "print(\"Accuracy on training data : \",training_data_accuracy)"
   ]
  },
  {
   "cell_type": "code",
   "execution_count": 28,
   "id": "03383063",
   "metadata": {
    "execution": {
     "iopub.execute_input": "2022-09-01T04:03:45.665755Z",
     "iopub.status.busy": "2022-09-01T04:03:45.664896Z",
     "iopub.status.idle": "2022-09-01T04:03:45.693217Z",
     "shell.execute_reply": "2022-09-01T04:03:45.689226Z"
    },
    "papermill": {
     "duration": 0.069391,
     "end_time": "2022-09-01T04:03:45.700055",
     "exception": false,
     "start_time": "2022-09-01T04:03:45.630664",
     "status": "completed"
    },
    "tags": []
   },
   "outputs": [
    {
     "name": "stdout",
     "output_type": "stream",
     "text": [
      "Accuracy score on test data :  0.9733036707452726\n"
     ]
    }
   ],
   "source": [
    "# accuracy on test data\n",
    "X_test_prediction = model.predict(X_test)\n",
    "test_data_accuracy = accuracy_score(X_test_prediction,Y_test)\n",
    "print(\"Accuracy score on test data : \",test_data_accuracy)"
   ]
  }
 ],
 "metadata": {
  "kernelspec": {
   "display_name": "Python 3",
   "language": "python",
   "name": "python3"
  },
  "language_info": {
   "codemirror_mode": {
    "name": "ipython",
    "version": 3
   },
   "file_extension": ".py",
   "mimetype": "text/x-python",
   "name": "python",
   "nbconvert_exporter": "python",
   "pygments_lexer": "ipython3",
   "version": "3.7.12"
  },
  "papermill": {
   "default_parameters": {},
   "duration": 21.971589,
   "end_time": "2022-09-01T04:03:46.871712",
   "environment_variables": {},
   "exception": null,
   "input_path": "__notebook__.ipynb",
   "output_path": "__notebook__.ipynb",
   "parameters": {},
   "start_time": "2022-09-01T04:03:24.900123",
   "version": "2.3.4"
  }
 },
 "nbformat": 4,
 "nbformat_minor": 5
}
